{
 "cells": [
  {
   "cell_type": "markdown",
   "metadata": {},
   "source": [
    "# Vamos a hacer un scrappeo de la página del mundo usando la API de nwsapi.org"
   ]
  },
  {
   "cell_type": "markdown",
   "metadata": {},
   "source": [
    "## En primer lugar importamos los datos desde la API a Python"
   ]
  },
  {
   "cell_type": "code",
   "execution_count": 15,
   "metadata": {},
   "outputs": [
    {
     "data": {
      "text/plain": [
       "100"
      ]
     },
     "execution_count": 15,
     "metadata": {},
     "output_type": "execute_result"
    }
   ],
   "source": [
    "import requests\n",
    "from pprint import pprint\n",
    "\n",
    "# https://newsapi.org/docs/endpoints/everything\n",
    "# Si cambiamos la \"source\" por cualquiera de las de esta lista: https://newsapi.org/sources funcionará automáticamente\n",
    "# el-mundo # marca # la-gaceta # la-nacion\n",
    "\n",
    "url = ('https://newsapi.org/v2/everything?'\n",
    "       'sources=el-mundo&'\n",
    "       'pageSize=100&'\n",
    "       'apiKey=85240b2d2d3f43dfa621d94a50f0a55e')\n",
    "response = requests.get(url).json()['articles']\n",
    "#pprint(response)\n",
    "len(response)"
   ]
  },
  {
   "cell_type": "markdown",
   "metadata": {},
   "source": [
    "## Guardamos las cabeceras en la variable \"cabecera\""
   ]
  },
  {
   "cell_type": "code",
   "execution_count": 16,
   "metadata": {},
   "outputs": [
    {
     "data": {
      "text/plain": [
       "['source',\n",
       " 'author',\n",
       " 'title',\n",
       " 'description',\n",
       " 'url',\n",
       " 'urlToImage',\n",
       " 'publishedAt',\n",
       " 'content']"
      ]
     },
     "execution_count": 16,
     "metadata": {},
     "output_type": "execute_result"
    }
   ],
   "source": [
    "cabecera = list()\n",
    "for i in response[0].keys():\n",
    "    cabecera.append(i)\n",
    "cabecera"
   ]
  },
  {
   "cell_type": "markdown",
   "metadata": {},
   "source": [
    "## Creamos un bucle que nos convierte nuestra response, un diccionario, en una lista"
   ]
  },
  {
   "cell_type": "code",
   "execution_count": 17,
   "metadata": {},
   "outputs": [],
   "source": [
    "respuesta = list()\n",
    "for i in range(0,len(response)-1):\n",
    "    respuestaiter = list()\n",
    "    for key in response[i]:\n",
    "        respuestaiter.append(response[i][key])\n",
    "    respuesta.append(respuestaiter)\n",
    "del(respuestaiter)"
   ]
  },
  {
   "cell_type": "markdown",
   "metadata": {},
   "source": [
    "## Le damos formato a nuestros datos para poder guardarlos"
   ]
  },
  {
   "cell_type": "code",
   "execution_count": 18,
   "metadata": {},
   "outputs": [
    {
     "data": {
      "text/plain": [
       "['lanacion.com',\n",
       " 'World Wide Web, a 30 años de la creación de la web',\n",
       " 'En el 30° aniversario de la creación de la World Wide Web (WWW), lo que conocemos como Web o como la \"triple W\",   Google  lo celebra con un   doodle animado:  una vieja computadora muestra la imagen pixeleada de la Tierra, que gira lentamente, como en aquell… [+1610 chars]']"
      ]
     },
     "execution_count": 18,
     "metadata": {},
     "output_type": "execute_result"
    }
   ],
   "source": [
    "CabecerasImp = ['author', 'title', 'content']\n",
    "respuesta = list()\n",
    "for i in range(0,len(response)-1):\n",
    "    respuestaiter = list()\n",
    "    for key in CabecerasImp:\n",
    "        respuestaiter.append(str(response[i][key]).replace('\\n', ' ').replace('\\r', ' '))\n",
    "    respuesta.append(respuestaiter)\n",
    "del(respuestaiter)\n",
    "\n",
    "respuesta[1]"
   ]
  },
  {
   "cell_type": "markdown",
   "metadata": {},
   "source": [
    "## Importamos el módulo csv y guardamos nuestros datos usando un bucle for"
   ]
  },
  {
   "cell_type": "code",
   "execution_count": 19,
   "metadata": {},
   "outputs": [],
   "source": [
    "import csv\n",
    "\n",
    "f = open('./Data/' + str(response[0]['source']['name']) + '.csv', 'w', newline='')\n",
    "csvwriter = csv.writer(f, delimiter='|', quotechar='\"')\n",
    "csvwriter.writerow(CabecerasImp)\n",
    "\n",
    "for i in range(0, len(response)-1):\n",
    "    csvwriter.writerow(respuesta[i])\n",
    "f.close()"
   ]
  },
  {
   "cell_type": "code",
   "execution_count": null,
   "metadata": {},
   "outputs": [],
   "source": []
  }
 ],
 "metadata": {
  "kernelspec": {
   "display_name": "Python 3",
   "language": "python",
   "name": "python3"
  },
  "language_info": {
   "codemirror_mode": {
    "name": "ipython",
    "version": 3
   },
   "file_extension": ".py",
   "mimetype": "text/x-python",
   "name": "python",
   "nbconvert_exporter": "python",
   "pygments_lexer": "ipython3",
   "version": "3.6.7"
  }
 },
 "nbformat": 4,
 "nbformat_minor": 2
}
