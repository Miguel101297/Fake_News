{
 "cells": [
  {
   "cell_type": "markdown",
   "metadata": {},
   "source": [
    "# Comparación entre noticias del mundo y el marca"
   ]
  },
  {
   "cell_type": "markdown",
   "metadata": {},
   "source": [
    "## Empezamos cargando las noticias de \"El Mundo\""
   ]
  },
  {
   "cell_type": "code",
   "execution_count": 1,
   "metadata": {},
   "outputs": [],
   "source": [
    "import pandas as pd\n",
    "import numpy as np\n",
    "import csv"
   ]
  },
  {
   "cell_type": "code",
   "execution_count": 2,
   "metadata": {},
   "outputs": [],
   "source": [
    "DatosNoticias_ElMundo = pd.DataFrame()\n",
    "DatosNoticias_Marca = pd.DataFrame()"
   ]
  },
  {
   "cell_type": "markdown",
   "metadata": {},
   "source": [
    "### Las guardamos en la variable 'csv_reader_EM'"
   ]
  },
  {
   "cell_type": "code",
   "execution_count": 13,
   "metadata": {
    "scrolled": true
   },
   "outputs": [
    {
     "name": "stdout",
     "output_type": "stream",
     "text": [
      "Processed 100 lines.\n"
     ]
    }
   ],
   "source": [
    "with open('.\\Data\\El Mundo.csv') as csv_El_Mundo:\n",
    "    csv_reader_EM = csv.reader(csv_El_Mundo, delimiter='|')\n",
    "    line_count = 0\n",
    "    for row in csv_reader_EM:\n",
    "        if line_count == 0:\n",
    "            DatosNoticias_ElMundo = pd.DataFrame(columns=['Título', 'Autor', 'Contenido', 'Target'], index=range(1,100))\n",
    "            line_count += 1\n",
    "        else:\n",
    "            DatosNoticias_ElMundo['Título'][line_count] = str(row[1])\n",
    "            DatosNoticias_ElMundo['Autor'][line_count] = str(row[0]).replace(\" \", \"\")\n",
    "            DatosNoticias_ElMundo['Contenido'][line_count] = str(row[2])\n",
    "            DatosNoticias_ElMundo['Target'][line_count] = 0\n",
    "            line_count += 1\n",
    "    print(f'Processed {line_count} lines.')\n",
    "line_count_EM = line_count"
   ]
  },
  {
   "cell_type": "code",
   "execution_count": 14,
   "metadata": {},
   "outputs": [
    {
     "data": {
      "text/html": [
       "<div>\n",
       "<style scoped>\n",
       "    .dataframe tbody tr th:only-of-type {\n",
       "        vertical-align: middle;\n",
       "    }\n",
       "\n",
       "    .dataframe tbody tr th {\n",
       "        vertical-align: top;\n",
       "    }\n",
       "\n",
       "    .dataframe thead th {\n",
       "        text-align: right;\n",
       "    }\n",
       "</style>\n",
       "<table border=\"1\" class=\"dataframe\">\n",
       "  <thead>\n",
       "    <tr style=\"text-align: right;\">\n",
       "      <th></th>\n",
       "      <th>Título</th>\n",
       "      <th>Autor</th>\n",
       "      <th>Contenido</th>\n",
       "      <th>Target</th>\n",
       "    </tr>\n",
       "  </thead>\n",
       "  <tbody>\n",
       "    <tr>\n",
       "      <th>1</th>\n",
       "      <td>Detenida una pareja tras fingir ser los padres...</td>\n",
       "      <td>EUROPAPRESS</td>\n",
       "      <td>Agentes de la Policía Nacional han detenido a ...</td>\n",
       "      <td>0</td>\n",
       "    </tr>\n",
       "    <tr>\n",
       "      <th>2</th>\n",
       "      <td>Dos policías detenidos en Río como sospechosos...</td>\n",
       "      <td>AFP</td>\n",
       "      <td>Dos policías fueron detenidos el martes en Río...</td>\n",
       "      <td>0</td>\n",
       "    </tr>\n",
       "  </tbody>\n",
       "</table>\n",
       "</div>"
      ],
      "text/plain": [
       "                                              Título        Autor  \\\n",
       "1  Detenida una pareja tras fingir ser los padres...  EUROPAPRESS   \n",
       "2  Dos policías detenidos en Río como sospechosos...          AFP   \n",
       "\n",
       "                                           Contenido Target  \n",
       "1  Agentes de la Policía Nacional han detenido a ...      0  \n",
       "2  Dos policías fueron detenidos el martes en Río...      0  "
      ]
     },
     "execution_count": 14,
     "metadata": {},
     "output_type": "execute_result"
    }
   ],
   "source": [
    "DatosNoticias_ElMundo.head(2)"
   ]
  },
  {
   "cell_type": "markdown",
   "metadata": {},
   "source": [
    "## Cargamos también las noticias del periódico deportivo \"Marca\""
   ]
  },
  {
   "cell_type": "markdown",
   "metadata": {},
   "source": [
    "### Las guardamos en la variable 'csv_reader_M'"
   ]
  },
  {
   "cell_type": "code",
   "execution_count": 15,
   "metadata": {},
   "outputs": [
    {
     "name": "stdout",
     "output_type": "stream",
     "text": [
      "Processed 100 lines.\n"
     ]
    }
   ],
   "source": [
    "with open('.\\Data\\Marca.csv') as csv_Marca:\n",
    "    csv_reader_M = csv.reader(csv_Marca, delimiter='|')\n",
    "    line_count = 0\n",
    "    for row in csv_reader_M:\n",
    "        if line_count == 0:\n",
    "            DatosNoticias_Marca = pd.DataFrame(columns=['Título', 'Autor', 'Contenido', 'Target'], index=range(1,100))\n",
    "            line_count += 1\n",
    "        else:\n",
    "            DatosNoticias_Marca['Título'][line_count] = str(row[1])\n",
    "            DatosNoticias_Marca['Autor'][line_count] = str(row[0]).replace(\" \", \"\")\n",
    "            DatosNoticias_Marca['Contenido'][line_count] = str(row[2])\n",
    "            DatosNoticias_Marca['Target'][line_count] = 1\n",
    "            line_count += 1\n",
    "    print(f'Processed {line_count} lines.')\n",
    "line_count_M = line_count"
   ]
  },
  {
   "cell_type": "code",
   "execution_count": 17,
   "metadata": {
    "scrolled": false
   },
   "outputs": [
    {
     "data": {
      "text/html": [
       "<div>\n",
       "<style scoped>\n",
       "    .dataframe tbody tr th:only-of-type {\n",
       "        vertical-align: middle;\n",
       "    }\n",
       "\n",
       "    .dataframe tbody tr th {\n",
       "        vertical-align: top;\n",
       "    }\n",
       "\n",
       "    .dataframe thead th {\n",
       "        text-align: right;\n",
       "    }\n",
       "</style>\n",
       "<table border=\"1\" class=\"dataframe\">\n",
       "  <thead>\n",
       "    <tr style=\"text-align: right;\">\n",
       "      <th></th>\n",
       "      <th>Título</th>\n",
       "      <th>Autor</th>\n",
       "      <th>Contenido</th>\n",
       "      <th>Target</th>\n",
       "    </tr>\n",
       "  </thead>\n",
       "  <tbody>\n",
       "    <tr>\n",
       "      <th>1</th>\n",
       "      <td>Álvaro Benito lo tiene claro: \"No ayuda a nadi...</td>\n",
       "      <td>RedacciónMARCA</td>\n",
       "      <td>Álvaro Benito, comentarista de la Cadena SER y...</td>\n",
       "      <td>1</td>\n",
       "    </tr>\n",
       "    <tr>\n",
       "      <th>2</th>\n",
       "      <td>Umtiti: \"Lo más fácil hubiera sido operarme\"</td>\n",
       "      <td>marca.com</td>\n",
       "      <td>Samuel Umtiti concedió una entrevista a L'Equi...</td>\n",
       "      <td>1</td>\n",
       "    </tr>\n",
       "  </tbody>\n",
       "</table>\n",
       "</div>"
      ],
      "text/plain": [
       "                                              Título           Autor  \\\n",
       "1  Álvaro Benito lo tiene claro: \"No ayuda a nadi...  RedacciónMARCA   \n",
       "2       Umtiti: \"Lo más fácil hubiera sido operarme\"       marca.com   \n",
       "\n",
       "                                           Contenido Target  \n",
       "1  Álvaro Benito, comentarista de la Cadena SER y...      1  \n",
       "2  Samuel Umtiti concedió una entrevista a L'Equi...      1  "
      ]
     },
     "execution_count": 17,
     "metadata": {},
     "output_type": "execute_result"
    }
   ],
   "source": [
    "DatosNoticias_Marca.head(2)"
   ]
  },
  {
   "cell_type": "markdown",
   "metadata": {},
   "source": [
    "## Unimos los dos dataframes en un gran dataframe de noticias "
   ]
  },
  {
   "cell_type": "code",
   "execution_count": 18,
   "metadata": {},
   "outputs": [],
   "source": [
    "DataFrames = [DatosNoticias_ElMundo, DatosNoticias_Marca]\n",
    "Noticias = pd.concat(DataFrames)\n",
    "del(DataFrames,DatosNoticias_ElMundo, DatosNoticias_Marca)"
   ]
  },
  {
   "cell_type": "code",
   "execution_count": 19,
   "metadata": {},
   "outputs": [
    {
     "data": {
      "text/html": [
       "<div>\n",
       "<style scoped>\n",
       "    .dataframe tbody tr th:only-of-type {\n",
       "        vertical-align: middle;\n",
       "    }\n",
       "\n",
       "    .dataframe tbody tr th {\n",
       "        vertical-align: top;\n",
       "    }\n",
       "\n",
       "    .dataframe thead th {\n",
       "        text-align: right;\n",
       "    }\n",
       "</style>\n",
       "<table border=\"1\" class=\"dataframe\">\n",
       "  <thead>\n",
       "    <tr style=\"text-align: right;\">\n",
       "      <th></th>\n",
       "      <th>Título</th>\n",
       "      <th>Autor</th>\n",
       "      <th>Contenido</th>\n",
       "      <th>Target</th>\n",
       "    </tr>\n",
       "  </thead>\n",
       "  <tbody>\n",
       "    <tr>\n",
       "      <th>1</th>\n",
       "      <td>Detenida una pareja tras fingir ser los padres...</td>\n",
       "      <td>EUROPAPRESS</td>\n",
       "      <td>Agentes de la Policía Nacional han detenido a ...</td>\n",
       "      <td>0</td>\n",
       "    </tr>\n",
       "    <tr>\n",
       "      <th>2</th>\n",
       "      <td>Dos policías detenidos en Río como sospechosos...</td>\n",
       "      <td>AFP</td>\n",
       "      <td>Dos policías fueron detenidos el martes en Río...</td>\n",
       "      <td>0</td>\n",
       "    </tr>\n",
       "  </tbody>\n",
       "</table>\n",
       "</div>"
      ],
      "text/plain": [
       "                                              Título        Autor  \\\n",
       "1  Detenida una pareja tras fingir ser los padres...  EUROPAPRESS   \n",
       "2  Dos policías detenidos en Río como sospechosos...          AFP   \n",
       "\n",
       "                                           Contenido Target  \n",
       "1  Agentes de la Policía Nacional han detenido a ...      0  \n",
       "2  Dos policías fueron detenidos el martes en Río...      0  "
      ]
     },
     "execution_count": 19,
     "metadata": {},
     "output_type": "execute_result"
    }
   ],
   "source": [
    "Noticias.head(2)"
   ]
  },
  {
   "cell_type": "code",
   "execution_count": 20,
   "metadata": {
    "scrolled": true
   },
   "outputs": [
    {
     "data": {
      "text/html": [
       "<div>\n",
       "<style scoped>\n",
       "    .dataframe tbody tr th:only-of-type {\n",
       "        vertical-align: middle;\n",
       "    }\n",
       "\n",
       "    .dataframe tbody tr th {\n",
       "        vertical-align: top;\n",
       "    }\n",
       "\n",
       "    .dataframe thead th {\n",
       "        text-align: right;\n",
       "    }\n",
       "</style>\n",
       "<table border=\"1\" class=\"dataframe\">\n",
       "  <thead>\n",
       "    <tr style=\"text-align: right;\">\n",
       "      <th></th>\n",
       "      <th>Título</th>\n",
       "      <th>Autor</th>\n",
       "      <th>Contenido</th>\n",
       "      <th>Target</th>\n",
       "    </tr>\n",
       "  </thead>\n",
       "  <tbody>\n",
       "    <tr>\n",
       "      <th>98</th>\n",
       "      <td>Chiellini: I'm 200 percent convinced that Cris...</td>\n",
       "      <td>marca.com</td>\n",
       "      <td>Giorgio Chiellini  AFP  Juventus captain Giorg...</td>\n",
       "      <td>1</td>\n",
       "    </tr>\n",
       "    <tr>\n",
       "      <th>99</th>\n",
       "      <td>Terapia de Grupo: \"Zidane le echa valor regres...</td>\n",
       "      <td>RadioMARCA</td>\n",
       "      <td>Zidane durante la rueda de prensa de su desped...</td>\n",
       "      <td>1</td>\n",
       "    </tr>\n",
       "  </tbody>\n",
       "</table>\n",
       "</div>"
      ],
      "text/plain": [
       "                                               Título       Autor  \\\n",
       "98  Chiellini: I'm 200 percent convinced that Cris...   marca.com   \n",
       "99  Terapia de Grupo: \"Zidane le echa valor regres...  RadioMARCA   \n",
       "\n",
       "                                            Contenido Target  \n",
       "98  Giorgio Chiellini  AFP  Juventus captain Giorg...      1  \n",
       "99  Zidane durante la rueda de prensa de su desped...      1  "
      ]
     },
     "execution_count": 20,
     "metadata": {},
     "output_type": "execute_result"
    }
   ],
   "source": [
    "Noticias.tail(2)"
   ]
  },
  {
   "cell_type": "code",
   "execution_count": 21,
   "metadata": {},
   "outputs": [
    {
     "data": {
      "text/plain": [
       "1    Detenida una pareja tras fingir ser los padres...\n",
       "2    Dos policías detenidos en Río como sospechosos...\n",
       "3    Causa el doble de muertes de lo que se creía: ...\n",
       "4    Lío entre Risto Mejide y la 'antifeminista' So...\n",
       "5    Eurovisión ya tiene sus favoritos y España no ...\n",
       "Name: Título, dtype: object"
      ]
     },
     "execution_count": 21,
     "metadata": {},
     "output_type": "execute_result"
    }
   ],
   "source": [
    "Noticias['Título'].head()"
   ]
  },
  {
   "cell_type": "markdown",
   "metadata": {},
   "source": [
    "## Convertimos los csv's en un formato que podamos usar en nuestro modelo predictivo (Word Cleaning + HotEnd Encoding)"
   ]
  },
  {
   "cell_type": "code",
   "execution_count": 22,
   "metadata": {},
   "outputs": [],
   "source": [
    "from sklearn import feature_extraction\n",
    "\n",
    "#vectorizador_count = feature_extraction.text.CountVectorizer()\n",
    "#X = vectorizador_count.fit_transform(Noticias['Título'])\n",
    "\n",
    "vectorizador_tfidf = feature_extraction.text.TfidfVectorizer()\n",
    "texto_vectorizado = vectorizador_tfidf.fit_transform(Noticias['Título'])\n",
    "df_titulo_procesado =  pd.DataFrame(texto_vectorizado.toarray(), columns=vectorizador_tfidf.get_feature_names())\n",
    "\n",
    "vectorizador_tfidf = feature_extraction.text.TfidfVectorizer()\n",
    "texto_vectorizado = vectorizador_tfidf.fit_transform(Noticias['Autor'])\n",
    "df_autor_procesado =  pd.DataFrame(texto_vectorizado.toarray(), columns=vectorizador_tfidf.get_feature_names())\n",
    "\n",
    "vectorizador_tfidf = feature_extraction.text.TfidfVectorizer()\n",
    "texto_vectorizado = vectorizador_tfidf.fit_transform(Noticias['Contenido'])\n",
    "df_contenido_procesado =  pd.DataFrame(texto_vectorizado.toarray(), columns=vectorizador_tfidf.get_feature_names())\n"
   ]
  },
  {
   "cell_type": "code",
   "execution_count": 23,
   "metadata": {},
   "outputs": [
    {
     "data": {
      "text/plain": [
       "(198, 102)"
      ]
     },
     "execution_count": 23,
     "metadata": {},
     "output_type": "execute_result"
    }
   ],
   "source": [
    "df_autor_procesado.shape"
   ]
  },
  {
   "cell_type": "code",
   "execution_count": 24,
   "metadata": {},
   "outputs": [
    {
     "data": {
      "text/plain": [
       "(198, 3248)"
      ]
     },
     "execution_count": 24,
     "metadata": {},
     "output_type": "execute_result"
    }
   ],
   "source": [
    "df_contenido_procesado.shape"
   ]
  },
  {
   "cell_type": "code",
   "execution_count": 25,
   "metadata": {},
   "outputs": [
    {
     "data": {
      "text/plain": [
       "(198, 4)"
      ]
     },
     "execution_count": 25,
     "metadata": {},
     "output_type": "execute_result"
    }
   ],
   "source": [
    "Noticias.shape"
   ]
  },
  {
   "cell_type": "code",
   "execution_count": 26,
   "metadata": {},
   "outputs": [],
   "source": [
    "Noticias = Noticias.reset_index(drop=True)"
   ]
  },
  {
   "cell_type": "code",
   "execution_count": 27,
   "metadata": {
    "scrolled": true
   },
   "outputs": [],
   "source": [
    "Noticias_Procesadas = pd.concat(\n",
    "[\n",
    "    Noticias,\n",
    "    df_titulo_procesado,\n",
    "    df_autor_procesado,\n",
    "    df_contenido_procesado\n",
    "], axis=1, sort=False)\n",
    "\n",
    "del(df_titulo_procesado,\n",
    "    df_autor_procesado,\n",
    "    df_contenido_procesado)"
   ]
  },
  {
   "cell_type": "code",
   "execution_count": 28,
   "metadata": {
    "scrolled": false
   },
   "outputs": [
    {
     "data": {
      "text/plain": [
       "(198, 4498)"
      ]
     },
     "execution_count": 28,
     "metadata": {},
     "output_type": "execute_result"
    }
   ],
   "source": [
    "Noticias_Procesadas.shape"
   ]
  },
  {
   "cell_type": "code",
   "execution_count": 30,
   "metadata": {},
   "outputs": [
    {
     "data": {
      "text/html": [
       "<div>\n",
       "<style scoped>\n",
       "    .dataframe tbody tr th:only-of-type {\n",
       "        vertical-align: middle;\n",
       "    }\n",
       "\n",
       "    .dataframe tbody tr th {\n",
       "        vertical-align: top;\n",
       "    }\n",
       "\n",
       "    .dataframe thead th {\n",
       "        text-align: right;\n",
       "    }\n",
       "</style>\n",
       "<table border=\"1\" class=\"dataframe\">\n",
       "  <thead>\n",
       "    <tr style=\"text-align: right;\">\n",
       "      <th></th>\n",
       "      <th>Título</th>\n",
       "      <th>Autor</th>\n",
       "      <th>Contenido</th>\n",
       "      <th>Target</th>\n",
       "      <th>000</th>\n",
       "      <th>10</th>\n",
       "      <th>100</th>\n",
       "      <th>11</th>\n",
       "      <th>12</th>\n",
       "      <th>14</th>\n",
       "      <th>...</th>\n",
       "      <th>ídem</th>\n",
       "      <th>íntima</th>\n",
       "      <th>órdenes</th>\n",
       "      <th>órgano</th>\n",
       "      <th>última</th>\n",
       "      <th>últimas</th>\n",
       "      <th>último</th>\n",
       "      <th>últimos</th>\n",
       "      <th>única</th>\n",
       "      <th>único</th>\n",
       "    </tr>\n",
       "  </thead>\n",
       "  <tbody>\n",
       "    <tr>\n",
       "      <th>0</th>\n",
       "      <td>Detenida una pareja tras fingir ser los padres...</td>\n",
       "      <td>EUROPAPRESS</td>\n",
       "      <td>Agentes de la Policía Nacional han detenido a ...</td>\n",
       "      <td>0</td>\n",
       "      <td>0.0</td>\n",
       "      <td>0.0</td>\n",
       "      <td>0.0</td>\n",
       "      <td>0.0</td>\n",
       "      <td>0.0</td>\n",
       "      <td>0.0</td>\n",
       "      <td>...</td>\n",
       "      <td>0.0</td>\n",
       "      <td>0.0</td>\n",
       "      <td>0.0</td>\n",
       "      <td>0.0</td>\n",
       "      <td>0.0</td>\n",
       "      <td>0.0</td>\n",
       "      <td>0.0</td>\n",
       "      <td>0.0</td>\n",
       "      <td>0.0</td>\n",
       "      <td>0.0</td>\n",
       "    </tr>\n",
       "    <tr>\n",
       "      <th>1</th>\n",
       "      <td>Dos policías detenidos en Río como sospechosos...</td>\n",
       "      <td>AFP</td>\n",
       "      <td>Dos policías fueron detenidos el martes en Río...</td>\n",
       "      <td>0</td>\n",
       "      <td>0.0</td>\n",
       "      <td>0.0</td>\n",
       "      <td>0.0</td>\n",
       "      <td>0.0</td>\n",
       "      <td>0.0</td>\n",
       "      <td>0.0</td>\n",
       "      <td>...</td>\n",
       "      <td>0.0</td>\n",
       "      <td>0.0</td>\n",
       "      <td>0.0</td>\n",
       "      <td>0.0</td>\n",
       "      <td>0.0</td>\n",
       "      <td>0.0</td>\n",
       "      <td>0.0</td>\n",
       "      <td>0.0</td>\n",
       "      <td>0.0</td>\n",
       "      <td>0.0</td>\n",
       "    </tr>\n",
       "  </tbody>\n",
       "</table>\n",
       "<p>2 rows × 4498 columns</p>\n",
       "</div>"
      ],
      "text/plain": [
       "                                              Título        Autor  \\\n",
       "0  Detenida una pareja tras fingir ser los padres...  EUROPAPRESS   \n",
       "1  Dos policías detenidos en Río como sospechosos...          AFP   \n",
       "\n",
       "                                           Contenido Target  000   10  100  \\\n",
       "0  Agentes de la Policía Nacional han detenido a ...      0  0.0  0.0  0.0   \n",
       "1  Dos policías fueron detenidos el martes en Río...      0  0.0  0.0  0.0   \n",
       "\n",
       "    11   12   14  ...  ídem  íntima  órdenes  órgano  última  últimas  último  \\\n",
       "0  0.0  0.0  0.0  ...   0.0     0.0      0.0     0.0     0.0      0.0     0.0   \n",
       "1  0.0  0.0  0.0  ...   0.0     0.0      0.0     0.0     0.0      0.0     0.0   \n",
       "\n",
       "   últimos  única  único  \n",
       "0      0.0    0.0    0.0  \n",
       "1      0.0    0.0    0.0  \n",
       "\n",
       "[2 rows x 4498 columns]"
      ]
     },
     "execution_count": 30,
     "metadata": {},
     "output_type": "execute_result"
    }
   ],
   "source": [
    "Noticias_Procesadas.head(2)"
   ]
  },
  {
   "cell_type": "code",
   "execution_count": 45,
   "metadata": {},
   "outputs": [],
   "source": [
    "Noticias_num = Noticias_Procesadas\n",
    "Noticias_num = Noticias_num.drop(['Título', 'Autor', 'Contenido'], axis=1)"
   ]
  },
  {
   "cell_type": "code",
   "execution_count": 103,
   "metadata": {},
   "outputs": [],
   "source": [
    "y = Noticias_num['Target']\n",
    "X = Noticias_num.drop(['Target'], axis=1)"
   ]
  },
  {
   "cell_type": "code",
   "execution_count": 82,
   "metadata": {},
   "outputs": [
    {
     "data": {
      "text/plain": [
       "(198, 4494)"
      ]
     },
     "execution_count": 82,
     "metadata": {},
     "output_type": "execute_result"
    }
   ],
   "source": [
    "X.shape"
   ]
  },
  {
   "cell_type": "code",
   "execution_count": 83,
   "metadata": {},
   "outputs": [
    {
     "data": {
      "text/html": [
       "<div>\n",
       "<style scoped>\n",
       "    .dataframe tbody tr th:only-of-type {\n",
       "        vertical-align: middle;\n",
       "    }\n",
       "\n",
       "    .dataframe tbody tr th {\n",
       "        vertical-align: top;\n",
       "    }\n",
       "\n",
       "    .dataframe thead th {\n",
       "        text-align: right;\n",
       "    }\n",
       "</style>\n",
       "<table border=\"1\" class=\"dataframe\">\n",
       "  <thead>\n",
       "    <tr style=\"text-align: right;\">\n",
       "      <th></th>\n",
       "      <th>000</th>\n",
       "      <th>10</th>\n",
       "      <th>100</th>\n",
       "      <th>11</th>\n",
       "      <th>12</th>\n",
       "      <th>14</th>\n",
       "      <th>15</th>\n",
       "      <th>18</th>\n",
       "      <th>20</th>\n",
       "      <th>200</th>\n",
       "      <th>...</th>\n",
       "      <th>ídem</th>\n",
       "      <th>íntima</th>\n",
       "      <th>órdenes</th>\n",
       "      <th>órgano</th>\n",
       "      <th>última</th>\n",
       "      <th>últimas</th>\n",
       "      <th>último</th>\n",
       "      <th>últimos</th>\n",
       "      <th>única</th>\n",
       "      <th>único</th>\n",
       "    </tr>\n",
       "  </thead>\n",
       "  <tbody>\n",
       "    <tr>\n",
       "      <th>0</th>\n",
       "      <td>0.0</td>\n",
       "      <td>0.0</td>\n",
       "      <td>0.0</td>\n",
       "      <td>0.0</td>\n",
       "      <td>0.0</td>\n",
       "      <td>0.0</td>\n",
       "      <td>0.0</td>\n",
       "      <td>0.0</td>\n",
       "      <td>0.0</td>\n",
       "      <td>0.0</td>\n",
       "      <td>...</td>\n",
       "      <td>0.0</td>\n",
       "      <td>0.0</td>\n",
       "      <td>0.0</td>\n",
       "      <td>0.0</td>\n",
       "      <td>0.0</td>\n",
       "      <td>0.0</td>\n",
       "      <td>0.0</td>\n",
       "      <td>0.0</td>\n",
       "      <td>0.0</td>\n",
       "      <td>0.0</td>\n",
       "    </tr>\n",
       "    <tr>\n",
       "      <th>1</th>\n",
       "      <td>0.0</td>\n",
       "      <td>0.0</td>\n",
       "      <td>0.0</td>\n",
       "      <td>0.0</td>\n",
       "      <td>0.0</td>\n",
       "      <td>0.0</td>\n",
       "      <td>0.0</td>\n",
       "      <td>0.0</td>\n",
       "      <td>0.0</td>\n",
       "      <td>0.0</td>\n",
       "      <td>...</td>\n",
       "      <td>0.0</td>\n",
       "      <td>0.0</td>\n",
       "      <td>0.0</td>\n",
       "      <td>0.0</td>\n",
       "      <td>0.0</td>\n",
       "      <td>0.0</td>\n",
       "      <td>0.0</td>\n",
       "      <td>0.0</td>\n",
       "      <td>0.0</td>\n",
       "      <td>0.0</td>\n",
       "    </tr>\n",
       "  </tbody>\n",
       "</table>\n",
       "<p>2 rows × 4494 columns</p>\n",
       "</div>"
      ],
      "text/plain": [
       "   000   10  100   11   12   14   15   18   20  200  ...  ídem  íntima  \\\n",
       "0  0.0  0.0  0.0  0.0  0.0  0.0  0.0  0.0  0.0  0.0  ...   0.0     0.0   \n",
       "1  0.0  0.0  0.0  0.0  0.0  0.0  0.0  0.0  0.0  0.0  ...   0.0     0.0   \n",
       "\n",
       "   órdenes  órgano  última  últimas  último  últimos  única  único  \n",
       "0      0.0     0.0     0.0      0.0     0.0      0.0    0.0    0.0  \n",
       "1      0.0     0.0     0.0      0.0     0.0      0.0    0.0    0.0  \n",
       "\n",
       "[2 rows x 4494 columns]"
      ]
     },
     "execution_count": 83,
     "metadata": {},
     "output_type": "execute_result"
    }
   ],
   "source": [
    "X.head(2)"
   ]
  },
  {
   "cell_type": "code",
   "execution_count": 84,
   "metadata": {},
   "outputs": [
    {
     "data": {
      "text/plain": [
       "(198,)"
      ]
     },
     "execution_count": 84,
     "metadata": {},
     "output_type": "execute_result"
    }
   ],
   "source": [
    "y.shape"
   ]
  },
  {
   "cell_type": "code",
   "execution_count": 85,
   "metadata": {},
   "outputs": [
    {
     "data": {
      "text/plain": [
       "0    0\n",
       "1    0\n",
       "Name: Target, dtype: object"
      ]
     },
     "execution_count": 85,
     "metadata": {},
     "output_type": "execute_result"
    }
   ],
   "source": [
    "y.head(2)"
   ]
  },
  {
   "cell_type": "markdown",
   "metadata": {},
   "source": [
    "## Creamos el modelo predictivo usando Keras, y lo entrenamos con nuestros datos"
   ]
  },
  {
   "cell_type": "code",
   "execution_count": 86,
   "metadata": {},
   "outputs": [],
   "source": [
    "from tensorflow import keras\n",
    "import keras\n",
    "# import keras"
   ]
  },
  {
   "cell_type": "code",
   "execution_count": 87,
   "metadata": {},
   "outputs": [],
   "source": [
    "from keras.models import Sequential\n",
    "from keras.layers import Dense"
   ]
  },
  {
   "cell_type": "code",
   "execution_count": 114,
   "metadata": {},
   "outputs": [],
   "source": [
    "modelo = Sequential([\n",
    "    Dense(units=5, activation='sigmoid', input_dim=4494),\n",
    "    Dense(units=1, activation='sigmoid')\n",
    "])"
   ]
  },
  {
   "cell_type": "code",
   "execution_count": 129,
   "metadata": {},
   "outputs": [],
   "source": [
    "modelo.compile(loss=\"binary_crossentropy\",\n",
    "              optimizer=\"sgd\",\n",
    "              metrics=[\"accuracy\"])"
   ]
  },
  {
   "cell_type": "markdown",
   "metadata": {},
   "source": [
    "### Estandarizamos la X"
   ]
  },
  {
   "cell_type": "code",
   "execution_count": 95,
   "metadata": {},
   "outputs": [
    {
     "data": {
      "text/html": [
       "<div>\n",
       "<style scoped>\n",
       "    .dataframe tbody tr th:only-of-type {\n",
       "        vertical-align: middle;\n",
       "    }\n",
       "\n",
       "    .dataframe tbody tr th {\n",
       "        vertical-align: top;\n",
       "    }\n",
       "\n",
       "    .dataframe thead th {\n",
       "        text-align: right;\n",
       "    }\n",
       "</style>\n",
       "<table border=\"1\" class=\"dataframe\">\n",
       "  <thead>\n",
       "    <tr style=\"text-align: right;\">\n",
       "      <th></th>\n",
       "      <th>000</th>\n",
       "      <th>10</th>\n",
       "      <th>100</th>\n",
       "      <th>11</th>\n",
       "      <th>12</th>\n",
       "      <th>14</th>\n",
       "      <th>15</th>\n",
       "      <th>18</th>\n",
       "      <th>20</th>\n",
       "      <th>200</th>\n",
       "      <th>...</th>\n",
       "      <th>ídem</th>\n",
       "      <th>íntima</th>\n",
       "      <th>órdenes</th>\n",
       "      <th>órgano</th>\n",
       "      <th>última</th>\n",
       "      <th>últimas</th>\n",
       "      <th>último</th>\n",
       "      <th>últimos</th>\n",
       "      <th>única</th>\n",
       "      <th>único</th>\n",
       "    </tr>\n",
       "  </thead>\n",
       "  <tbody>\n",
       "    <tr>\n",
       "      <th>0</th>\n",
       "      <td>0.0</td>\n",
       "      <td>0.0</td>\n",
       "      <td>0.0</td>\n",
       "      <td>0.0</td>\n",
       "      <td>0.0</td>\n",
       "      <td>0.0</td>\n",
       "      <td>0.0</td>\n",
       "      <td>0.0</td>\n",
       "      <td>0.0</td>\n",
       "      <td>0.0</td>\n",
       "      <td>...</td>\n",
       "      <td>0.0</td>\n",
       "      <td>0.0</td>\n",
       "      <td>0.0</td>\n",
       "      <td>0.0</td>\n",
       "      <td>0.0</td>\n",
       "      <td>0.0</td>\n",
       "      <td>0.0</td>\n",
       "      <td>0.0</td>\n",
       "      <td>0.0</td>\n",
       "      <td>0.0</td>\n",
       "    </tr>\n",
       "    <tr>\n",
       "      <th>1</th>\n",
       "      <td>0.0</td>\n",
       "      <td>0.0</td>\n",
       "      <td>0.0</td>\n",
       "      <td>0.0</td>\n",
       "      <td>0.0</td>\n",
       "      <td>0.0</td>\n",
       "      <td>0.0</td>\n",
       "      <td>0.0</td>\n",
       "      <td>0.0</td>\n",
       "      <td>0.0</td>\n",
       "      <td>...</td>\n",
       "      <td>0.0</td>\n",
       "      <td>0.0</td>\n",
       "      <td>0.0</td>\n",
       "      <td>0.0</td>\n",
       "      <td>0.0</td>\n",
       "      <td>0.0</td>\n",
       "      <td>0.0</td>\n",
       "      <td>0.0</td>\n",
       "      <td>0.0</td>\n",
       "      <td>0.0</td>\n",
       "    </tr>\n",
       "  </tbody>\n",
       "</table>\n",
       "<p>2 rows × 4494 columns</p>\n",
       "</div>"
      ],
      "text/plain": [
       "   000   10  100   11   12   14   15   18   20  200  ...  ídem  íntima  \\\n",
       "0  0.0  0.0  0.0  0.0  0.0  0.0  0.0  0.0  0.0  0.0  ...   0.0     0.0   \n",
       "1  0.0  0.0  0.0  0.0  0.0  0.0  0.0  0.0  0.0  0.0  ...   0.0     0.0   \n",
       "\n",
       "   órdenes  órgano  última  últimas  último  últimos  única  único  \n",
       "0      0.0     0.0     0.0      0.0     0.0      0.0    0.0    0.0  \n",
       "1      0.0     0.0     0.0      0.0     0.0      0.0    0.0    0.0  \n",
       "\n",
       "[2 rows x 4494 columns]"
      ]
     },
     "execution_count": 95,
     "metadata": {},
     "output_type": "execute_result"
    }
   ],
   "source": [
    "X[:2]"
   ]
  },
  {
   "cell_type": "code",
   "execution_count": 90,
   "metadata": {},
   "outputs": [],
   "source": [
    "from sklearn.preprocessing import StandardScaler\n",
    "\n",
    "X_Std = StandardScaler().fit_transform(X)"
   ]
  },
  {
   "cell_type": "code",
   "execution_count": 96,
   "metadata": {},
   "outputs": [
    {
     "data": {
      "text/plain": [
       "array([[-0.10100459, -0.12326656, -0.07124705, ..., -0.14348914,\n",
       "        -0.10099384, -0.10096687],\n",
       "       [-0.10100459, -0.12326656, -0.07124705, ..., -0.14348914,\n",
       "        -0.10099384, -0.10096687]])"
      ]
     },
     "execution_count": 96,
     "metadata": {},
     "output_type": "execute_result"
    }
   ],
   "source": [
    "X_Std[:2]"
   ]
  },
  {
   "cell_type": "code",
   "execution_count": 106,
   "metadata": {},
   "outputs": [
    {
     "name": "stderr",
     "output_type": "stream",
     "text": [
      "C:\\ProgramData\\Anaconda3\\lib\\site-packages\\ipykernel_launcher.py:1: FutureWarning: Method .as_matrix will be removed in a future version. Use .values instead.\n",
      "  \"\"\"Entry point for launching an IPython kernel.\n"
     ]
    }
   ],
   "source": [
    "y = y.as_matrix()"
   ]
  },
  {
   "cell_type": "code",
   "execution_count": 107,
   "metadata": {},
   "outputs": [
    {
     "data": {
      "text/plain": [
       "numpy.ndarray"
      ]
     },
     "execution_count": 107,
     "metadata": {},
     "output_type": "execute_result"
    }
   ],
   "source": [
    "type(y)"
   ]
  },
  {
   "cell_type": "code",
   "execution_count": 109,
   "metadata": {
    "scrolled": true
   },
   "outputs": [],
   "source": [
    "y = y.reshape(len(y),1)"
   ]
  },
  {
   "cell_type": "code",
   "execution_count": 111,
   "metadata": {},
   "outputs": [
    {
     "data": {
      "text/plain": [
       "array([[0],\n",
       "       [0]], dtype=object)"
      ]
     },
     "execution_count": 111,
     "metadata": {},
     "output_type": "execute_result"
    }
   ],
   "source": [
    "y[:2]"
   ]
  },
  {
   "cell_type": "code",
   "execution_count": 116,
   "metadata": {
    "scrolled": true
   },
   "outputs": [
    {
     "name": "stdout",
     "output_type": "stream",
     "text": [
      "WARNING:tensorflow:From C:\\ProgramData\\Anaconda3\\lib\\site-packages\\tensorflow\\python\\ops\\math_ops.py:3066: to_int32 (from tensorflow.python.ops.math_ops) is deprecated and will be removed in a future version.\n",
      "Instructions for updating:\n",
      "Use tf.cast instead.\n",
      "Epoch 1/100\n",
      "198/198 [==============================] - 1s 4ms/step - loss: 0.7856 - acc: 0.5000\n",
      "Epoch 2/100\n",
      "198/198 [==============================] - 0s 212us/step - loss: 0.7538 - acc: 0.5000\n",
      "Epoch 3/100\n",
      "198/198 [==============================] - 0s 247us/step - loss: 0.7228 - acc: 0.5051\n",
      "Epoch 4/100\n",
      "198/198 [==============================] - 0s 232us/step - loss: 0.6941 - acc: 0.5101\n",
      "Epoch 5/100\n",
      "198/198 [==============================] - 0s 262us/step - loss: 0.6697 - acc: 0.5202\n",
      "Epoch 6/100\n",
      "198/198 [==============================] - 0s 242us/step - loss: 0.6445 - acc: 0.5404\n",
      "Epoch 7/100\n",
      "198/198 [==============================] - 0s 247us/step - loss: 0.6227 - acc: 0.5657\n",
      "Epoch 8/100\n",
      "198/198 [==============================] - 0s 262us/step - loss: 0.6029 - acc: 0.5859\n",
      "Epoch 9/100\n",
      "198/198 [==============================] - 0s 232us/step - loss: 0.5840 - acc: 0.6111\n",
      "Epoch 10/100\n",
      "198/198 [==============================] - 0s 237us/step - loss: 0.5661 - acc: 0.6414\n",
      "Epoch 11/100\n",
      "198/198 [==============================] - 0s 247us/step - loss: 0.5508 - acc: 0.6566\n",
      "Epoch 12/100\n",
      "198/198 [==============================] - 0s 239us/step - loss: 0.5365 - acc: 0.6818\n",
      "Epoch 13/100\n",
      "198/198 [==============================] - 0s 302us/step - loss: 0.5230 - acc: 0.6970\n",
      "Epoch 14/100\n",
      "198/198 [==============================] - 0s 212us/step - loss: 0.5095 - acc: 0.7374\n",
      "Epoch 15/100\n",
      "198/198 [==============================] - 0s 257us/step - loss: 0.4976 - acc: 0.7525\n",
      "Epoch 16/100\n",
      "198/198 [==============================] - 0s 217us/step - loss: 0.4858 - acc: 0.7879\n",
      "Epoch 17/100\n",
      "198/198 [==============================] - 0s 262us/step - loss: 0.4749 - acc: 0.8081\n",
      "Epoch 18/100\n",
      "198/198 [==============================] - 0s 260us/step - loss: 0.4642 - acc: 0.8434\n",
      "Epoch 19/100\n",
      "198/198 [==============================] - 0s 227us/step - loss: 0.4541 - acc: 0.8586\n",
      "Epoch 20/100\n",
      "198/198 [==============================] - 0s 257us/step - loss: 0.4439 - acc: 0.8737\n",
      "Epoch 21/100\n",
      "198/198 [==============================] - 0s 217us/step - loss: 0.4340 - acc: 0.8990\n",
      "Epoch 22/100\n",
      "198/198 [==============================] - 0s 262us/step - loss: 0.4243 - acc: 0.9192\n",
      "Epoch 23/100\n",
      "198/198 [==============================] - 0s 282us/step - loss: 0.4148 - acc: 0.9444\n",
      "Epoch 24/100\n",
      "198/198 [==============================] - 0s 222us/step - loss: 0.4063 - acc: 0.9596\n",
      "Epoch 25/100\n",
      "198/198 [==============================] - 0s 222us/step - loss: 0.3982 - acc: 0.9596\n",
      "Epoch 26/100\n",
      "198/198 [==============================] - 0s 257us/step - loss: 0.3900 - acc: 0.9646\n",
      "Epoch 27/100\n",
      "198/198 [==============================] - 0s 277us/step - loss: 0.3825 - acc: 0.9646\n",
      "Epoch 28/100\n",
      "198/198 [==============================] - 0s 247us/step - loss: 0.3753 - acc: 0.9646\n",
      "Epoch 29/100\n",
      "198/198 [==============================] - 0s 247us/step - loss: 0.3684 - acc: 0.9697\n",
      "Epoch 30/100\n",
      "198/198 [==============================] - 0s 237us/step - loss: 0.3614 - acc: 0.9747\n",
      "Epoch 31/100\n",
      "198/198 [==============================] - 0s 257us/step - loss: 0.3546 - acc: 0.9798\n",
      "Epoch 32/100\n",
      "198/198 [==============================] - 0s 237us/step - loss: 0.3479 - acc: 0.9848\n",
      "Epoch 33/100\n",
      "198/198 [==============================] - 0s 287us/step - loss: 0.3415 - acc: 0.9848\n",
      "Epoch 34/100\n",
      "198/198 [==============================] - 0s 227us/step - loss: 0.3353 - acc: 0.9949\n",
      "Epoch 35/100\n",
      "198/198 [==============================] - 0s 227us/step - loss: 0.3291 - acc: 0.9949\n",
      "Epoch 36/100\n",
      "198/198 [==============================] - 0s 237us/step - loss: 0.3230 - acc: 1.0000\n",
      "Epoch 37/100\n",
      "198/198 [==============================] - 0s 247us/step - loss: 0.3174 - acc: 1.0000\n",
      "Epoch 38/100\n",
      "198/198 [==============================] - 0s 232us/step - loss: 0.3116 - acc: 1.0000\n",
      "Epoch 39/100\n",
      "198/198 [==============================] - 0s 322us/step - loss: 0.3064 - acc: 1.0000\n",
      "Epoch 40/100\n",
      "198/198 [==============================] - 0s 292us/step - loss: 0.3014 - acc: 1.0000\n",
      "Epoch 41/100\n",
      "198/198 [==============================] - 0s 277us/step - loss: 0.2963 - acc: 1.0000\n",
      "Epoch 42/100\n",
      "198/198 [==============================] - 0s 408us/step - loss: 0.2912 - acc: 1.0000\n",
      "Epoch 43/100\n",
      "198/198 [==============================] - 0s 374us/step - loss: 0.2865 - acc: 1.0000\n",
      "Epoch 44/100\n",
      "198/198 [==============================] - 0s 288us/step - loss: 0.2818 - acc: 1.0000\n",
      "Epoch 45/100\n",
      "198/198 [==============================] - 0s 297us/step - loss: 0.2773 - acc: 1.0000\n",
      "Epoch 46/100\n",
      "198/198 [==============================] - 0s 297us/step - loss: 0.2727 - acc: 1.0000\n",
      "Epoch 47/100\n",
      "198/198 [==============================] - 0s 292us/step - loss: 0.2683 - acc: 1.0000\n",
      "Epoch 48/100\n",
      "198/198 [==============================] - 0s 252us/step - loss: 0.2640 - acc: 1.0000\n",
      "Epoch 49/100\n",
      "198/198 [==============================] - 0s 252us/step - loss: 0.2597 - acc: 1.0000\n",
      "Epoch 50/100\n",
      "198/198 [==============================] - 0s 249us/step - loss: 0.2556 - acc: 1.0000\n",
      "Epoch 51/100\n",
      "198/198 [==============================] - 0s 252us/step - loss: 0.2515 - acc: 1.0000\n",
      "Epoch 52/100\n",
      "198/198 [==============================] - 0s 242us/step - loss: 0.2477 - acc: 1.0000\n",
      "Epoch 53/100\n",
      "198/198 [==============================] - 0s 232us/step - loss: 0.2439 - acc: 1.0000\n",
      "Epoch 54/100\n",
      "198/198 [==============================] - 0s 305us/step - loss: 0.2401 - acc: 1.0000\n",
      "Epoch 55/100\n",
      "198/198 [==============================] - 0s 282us/step - loss: 0.2363 - acc: 1.0000\n",
      "Epoch 56/100\n",
      "198/198 [==============================] - 0s 262us/step - loss: 0.2328 - acc: 1.0000\n",
      "Epoch 57/100\n",
      "198/198 [==============================] - 0s 237us/step - loss: 0.2293 - acc: 1.0000\n",
      "Epoch 58/100\n",
      "198/198 [==============================] - 0s 242us/step - loss: 0.2260 - acc: 1.0000\n",
      "Epoch 59/100\n",
      "198/198 [==============================] - 0s 252us/step - loss: 0.2226 - acc: 1.0000\n",
      "Epoch 60/100\n",
      "198/198 [==============================] - 0s 237us/step - loss: 0.2193 - acc: 1.0000\n",
      "Epoch 61/100\n",
      "198/198 [==============================] - 0s 302us/step - loss: 0.2161 - acc: 1.0000\n",
      "Epoch 62/100\n",
      "198/198 [==============================] - 0s 282us/step - loss: 0.2131 - acc: 1.0000\n",
      "Epoch 63/100\n",
      "198/198 [==============================] - 0s 257us/step - loss: 0.2101 - acc: 1.0000\n",
      "Epoch 64/100\n",
      "198/198 [==============================] - 0s 287us/step - loss: 0.2072 - acc: 1.0000\n",
      "Epoch 65/100\n",
      "198/198 [==============================] - 0s 332us/step - loss: 0.2044 - acc: 1.0000\n",
      "Epoch 66/100\n",
      "198/198 [==============================] - 0s 247us/step - loss: 0.2015 - acc: 1.0000\n",
      "Epoch 67/100\n",
      "198/198 [==============================] - 0s 242us/step - loss: 0.1988 - acc: 1.0000\n",
      "Epoch 68/100\n",
      "198/198 [==============================] - 0s 327us/step - loss: 0.1960 - acc: 1.0000\n",
      "Epoch 69/100\n",
      "198/198 [==============================] - 0s 337us/step - loss: 0.1934 - acc: 1.0000\n",
      "Epoch 70/100\n",
      "198/198 [==============================] - 0s 277us/step - loss: 0.1909 - acc: 1.0000\n",
      "Epoch 71/100\n",
      "198/198 [==============================] - 0s 242us/step - loss: 0.1885 - acc: 1.0000\n",
      "Epoch 72/100\n",
      "198/198 [==============================] - 0s 227us/step - loss: 0.1858 - acc: 1.0000\n",
      "Epoch 73/100\n",
      "198/198 [==============================] - 0s 242us/step - loss: 0.1835 - acc: 1.0000\n",
      "Epoch 74/100\n",
      "198/198 [==============================] - 0s 257us/step - loss: 0.1812 - acc: 1.0000\n",
      "Epoch 75/100\n",
      "198/198 [==============================] - 0s 222us/step - loss: 0.1788 - acc: 1.0000\n",
      "Epoch 76/100\n",
      "198/198 [==============================] - 0s 242us/step - loss: 0.1766 - acc: 1.0000\n",
      "Epoch 77/100\n",
      "198/198 [==============================] - 0s 237us/step - loss: 0.1745 - acc: 1.0000\n",
      "Epoch 78/100\n",
      "198/198 [==============================] - 0s 252us/step - loss: 0.1723 - acc: 1.0000\n",
      "Epoch 79/100\n",
      "198/198 [==============================] - 0s 252us/step - loss: 0.1701 - acc: 1.0000\n",
      "Epoch 80/100\n",
      "198/198 [==============================] - 0s 232us/step - loss: 0.1681 - acc: 1.0000\n",
      "Epoch 81/100\n"
     ]
    },
    {
     "name": "stdout",
     "output_type": "stream",
     "text": [
      "198/198 [==============================] - 0s 242us/step - loss: 0.1661 - acc: 1.0000\n",
      "Epoch 82/100\n",
      "198/198 [==============================] - 0s 272us/step - loss: 0.1642 - acc: 1.0000\n",
      "Epoch 83/100\n",
      "198/198 [==============================] - 0s 222us/step - loss: 0.1622 - acc: 1.0000\n",
      "Epoch 84/100\n",
      "198/198 [==============================] - 0s 212us/step - loss: 0.1604 - acc: 1.0000\n",
      "Epoch 85/100\n",
      "198/198 [==============================] - 0s 207us/step - loss: 0.1585 - acc: 1.0000\n",
      "Epoch 86/100\n",
      "198/198 [==============================] - 0s 201us/step - loss: 0.1567 - acc: 1.0000\n",
      "Epoch 87/100\n",
      "198/198 [==============================] - 0s 191us/step - loss: 0.1549 - acc: 1.0000\n",
      "Epoch 88/100\n",
      "198/198 [==============================] - 0s 212us/step - loss: 0.1532 - acc: 1.0000\n",
      "Epoch 89/100\n",
      "198/198 [==============================] - 0s 201us/step - loss: 0.1515 - acc: 1.0000\n",
      "Epoch 90/100\n",
      "198/198 [==============================] - 0s 217us/step - loss: 0.1498 - acc: 1.0000\n",
      "Epoch 91/100\n",
      "198/198 [==============================] - 0s 201us/step - loss: 0.1482 - acc: 1.0000\n",
      "Epoch 92/100\n",
      "198/198 [==============================] - 0s 217us/step - loss: 0.1466 - acc: 1.0000\n",
      "Epoch 93/100\n",
      "198/198 [==============================] - 0s 196us/step - loss: 0.1450 - acc: 1.0000\n",
      "Epoch 94/100\n",
      "198/198 [==============================] - 0s 207us/step - loss: 0.1434 - acc: 1.0000\n",
      "Epoch 95/100\n",
      "198/198 [==============================] - 0s 191us/step - loss: 0.1419 - acc: 1.0000\n",
      "Epoch 96/100\n",
      "198/198 [==============================] - 0s 207us/step - loss: 0.1403 - acc: 1.0000\n",
      "Epoch 97/100\n",
      "198/198 [==============================] - 0s 201us/step - loss: 0.1388 - acc: 1.0000\n",
      "Epoch 98/100\n",
      "198/198 [==============================] - 0s 196us/step - loss: 0.1374 - acc: 1.0000\n",
      "Epoch 99/100\n",
      "198/198 [==============================] - 0s 196us/step - loss: 0.1359 - acc: 1.0000\n",
      "Epoch 100/100\n",
      "198/198 [==============================] - 0s 217us/step - loss: 0.1345 - acc: 1.0000\n"
     ]
    }
   ],
   "source": [
    "historial = modelo.fit(X_Std, y, epochs=100)"
   ]
  },
  {
   "cell_type": "code",
   "execution_count": 118,
   "metadata": {},
   "outputs": [],
   "source": [
    "import matplotlib.pyplot as plt"
   ]
  },
  {
   "cell_type": "code",
   "execution_count": 119,
   "metadata": {},
   "outputs": [
    {
     "data": {
      "image/png": "[encoded data removed]",
      "text/plain": [
       "<Figure size 432x288 with 1 Axes>"
      ]
     },
     "metadata": {
      "needs_background": "light"
     },
     "output_type": "display_data"
    }
   ],
   "source": [
    "plt.plot(historial.history[\"acc\"])\n",
    "plt.title(\"Precisión vs épocas de entrenamiento\");"
   ]
  },
  {
   "cell_type": "code",
   "execution_count": 127,
   "metadata": {},
   "outputs": [
    {
     "data": {
      "image/png": "[encoded data removed]",
      "text/plain": [
       "<Figure size 432x288 with 1 Axes>"
      ]
     },
     "metadata": {
      "needs_background": "light"
     },
     "output_type": "display_data"
    }
   ],
   "source": [
    "plt.plot(historial.history[\"loss\"])\n",
    "plt.title(\"Loss vs épocas de entrenamiento\");"
   ]
  },
  {
   "cell_type": "markdown",
   "metadata": {},
   "source": [
    "#### En este gráfico vemos que se alcanza la máxima precisión después de las 40 épocas, pero en cambio en lo referido a \"loss\", vemos que sigue decreciendo, lo que puede significar que la complejidad del modelo aumenta o que lo hace su efectividad."
   ]
  },
  {
   "cell_type": "markdown",
   "metadata": {},
   "source": [
    "## Comprobamos el porcentaje de acierto de nuestro modelo"
   ]
  },
  {
   "cell_type": "code",
   "execution_count": 121,
   "metadata": {},
   "outputs": [
    {
     "name": "stdout",
     "output_type": "stream",
     "text": [
      "198/198 [==============================] - 0s 725us/step\n"
     ]
    },
    {
     "data": {
      "text/plain": [
       "[0.13353994654284584, 1.0]"
      ]
     },
     "execution_count": 121,
     "metadata": {},
     "output_type": "execute_result"
    }
   ],
   "source": [
    "scores = modelo.evaluate(X_Std, y)\n",
    "scores"
   ]
  },
  {
   "cell_type": "code",
   "execution_count": 122,
   "metadata": {},
   "outputs": [
    {
     "data": {
      "text/plain": [
       "['loss', 'acc']"
      ]
     },
     "execution_count": 122,
     "metadata": {},
     "output_type": "execute_result"
    }
   ],
   "source": [
    "modelo.metrics_names"
   ]
  },
  {
   "cell_type": "markdown",
   "metadata": {},
   "source": [
    "## Guardamos nuestro modelo, para poder ser usado posteriormente"
   ]
  },
  {
   "cell_type": "code",
   "execution_count": 124,
   "metadata": {},
   "outputs": [],
   "source": [
    "from keras.callbacks import ModelCheckpoint"
   ]
  },
  {
   "cell_type": "code",
   "execution_count": 134,
   "metadata": {},
   "outputs": [
    {
     "name": "stdout",
     "output_type": "stream",
     "text": [
      "Epoch 1/100\n",
      "198/198 [==============================] - 1s 4ms/step - loss: 0.7884 - acc: 0.4899\n",
      "Epoch 2/100\n",
      "198/198 [==============================] - 0s 242us/step - loss: 0.7434 - acc: 0.4949\n",
      "Epoch 3/100\n",
      "198/198 [==============================] - 0s 245us/step - loss: 0.7017 - acc: 0.5101\n",
      "Epoch 4/100\n",
      "198/198 [==============================] - 0s 242us/step - loss: 0.6648 - acc: 0.5505\n",
      "Epoch 5/100\n",
      "198/198 [==============================] - 0s 257us/step - loss: 0.6319 - acc: 0.5707\n",
      "Epoch 6/100\n",
      "198/198 [==============================] - 0s 237us/step - loss: 0.6008 - acc: 0.6061\n",
      "Epoch 7/100\n",
      "198/198 [==============================] - 0s 247us/step - loss: 0.5716 - acc: 0.6364\n",
      "Epoch 8/100\n",
      "198/198 [==============================] - ETA: 0s - loss: 0.5215 - acc: 0.781 - 0s 252us/step - loss: 0.5461 - acc: 0.6667\n",
      "Epoch 9/100\n",
      "198/198 [==============================] - 0s 232us/step - loss: 0.5225 - acc: 0.7020\n",
      "Epoch 10/100\n",
      "198/198 [==============================] - 0s 285us/step - loss: 0.5007 - acc: 0.7273\n",
      "\n",
      "Epoch 00010: saving model to modelo.hdf5\n",
      "Epoch 11/100\n",
      "198/198 [==============================] - 0s 259us/step - loss: 0.4811 - acc: 0.7727\n",
      "Epoch 12/100\n",
      "198/198 [==============================] - 0s 459us/step - loss: 0.4635 - acc: 0.8182\n",
      "Epoch 13/100\n",
      "198/198 [==============================] - 0s 489us/step - loss: 0.4461 - acc: 0.8535\n",
      "Epoch 14/100\n",
      "198/198 [==============================] - 0s 300us/step - loss: 0.4307 - acc: 0.8687\n",
      "Epoch 15/100\n",
      "198/198 [==============================] - 0s 446us/step - loss: 0.4166 - acc: 0.8889\n",
      "Epoch 16/100\n",
      "198/198 [==============================] - 0s 337us/step - loss: 0.4039 - acc: 0.9242\n",
      "Epoch 17/100\n",
      "198/198 [==============================] - 0s 317us/step - loss: 0.3916 - acc: 0.9343\n",
      "Epoch 18/100\n",
      "198/198 [==============================] - 0s 343us/step - loss: 0.3799 - acc: 0.9545\n",
      "Epoch 19/100\n",
      "198/198 [==============================] - 0s 327us/step - loss: 0.3691 - acc: 0.9596\n",
      "Epoch 20/100\n",
      "198/198 [==============================] - 0s 322us/step - loss: 0.3592 - acc: 0.9596\n",
      "\n",
      "Epoch 00020: saving model to modelo.hdf5\n",
      "Epoch 21/100\n",
      "198/198 [==============================] - 0s 322us/step - loss: 0.3496 - acc: 0.9646\n",
      "Epoch 22/100\n",
      "198/198 [==============================] - 0s 282us/step - loss: 0.3409 - acc: 0.9697\n",
      "Epoch 23/100\n",
      "198/198 [==============================] - 0s 242us/step - loss: 0.3325 - acc: 0.9798\n",
      "Epoch 24/100\n",
      "198/198 [==============================] - 0s 262us/step - loss: 0.3248 - acc: 0.9848\n",
      "Epoch 25/100\n",
      "198/198 [==============================] - 0s 232us/step - loss: 0.3173 - acc: 0.9949\n",
      "Epoch 26/100\n",
      "198/198 [==============================] - 0s 252us/step - loss: 0.3103 - acc: 0.9949\n",
      "Epoch 27/100\n",
      "198/198 [==============================] - 0s 242us/step - loss: 0.3037 - acc: 0.9949\n",
      "Epoch 28/100\n",
      "198/198 [==============================] - 0s 237us/step - loss: 0.2972 - acc: 1.0000\n",
      "Epoch 29/100\n",
      "198/198 [==============================] - 0s 277us/step - loss: 0.2912 - acc: 1.0000\n",
      "Epoch 30/100\n",
      "198/198 [==============================] - 0s 222us/step - loss: 0.2850 - acc: 1.0000\n",
      "\n",
      "Epoch 00030: saving model to modelo.hdf5\n",
      "Epoch 31/100\n",
      "198/198 [==============================] - 0s 307us/step - loss: 0.2795 - acc: 1.0000\n",
      "Epoch 32/100\n",
      "198/198 [==============================] - 0s 466us/step - loss: 0.2744 - acc: 1.0000\n",
      "Epoch 33/100\n",
      "198/198 [==============================] - 0s 346us/step - loss: 0.2695 - acc: 1.0000\n",
      "Epoch 34/100\n",
      "198/198 [==============================] - 0s 398us/step - loss: 0.2646 - acc: 1.0000\n",
      "Epoch 35/100\n",
      "198/198 [==============================] - 0s 396us/step - loss: 0.2601 - acc: 1.0000\n",
      "Epoch 36/100\n",
      "198/198 [==============================] - 0s 277us/step - loss: 0.2558 - acc: 1.0000\n",
      "Epoch 37/100\n",
      "198/198 [==============================] - 0s 257us/step - loss: 0.2515 - acc: 1.0000\n",
      "Epoch 38/100\n",
      "198/198 [==============================] - 0s 237us/step - loss: 0.2474 - acc: 1.0000\n",
      "Epoch 39/100\n",
      "198/198 [==============================] - 0s 267us/step - loss: 0.2436 - acc: 1.0000\n",
      "Epoch 40/100\n",
      "198/198 [==============================] - 0s 242us/step - loss: 0.2398 - acc: 1.0000\n",
      "\n",
      "Epoch 00040: saving model to modelo.hdf5\n",
      "Epoch 41/100\n",
      "198/198 [==============================] - 0s 302us/step - loss: 0.2361 - acc: 1.0000\n",
      "Epoch 42/100\n",
      "198/198 [==============================] - 0s 232us/step - loss: 0.2328 - acc: 1.0000\n",
      "Epoch 43/100\n",
      "198/198 [==============================] - 0s 247us/step - loss: 0.2294 - acc: 1.0000\n",
      "Epoch 44/100\n",
      "198/198 [==============================] - 0s 227us/step - loss: 0.2261 - acc: 1.0000\n",
      "Epoch 45/100\n",
      "198/198 [==============================] - 0s 237us/step - loss: 0.2230 - acc: 1.0000\n",
      "Epoch 46/100\n",
      "198/198 [==============================] - 0s 237us/step - loss: 0.2199 - acc: 1.0000\n",
      "Epoch 47/100\n",
      "198/198 [==============================] - 0s 237us/step - loss: 0.2168 - acc: 1.0000\n",
      "Epoch 48/100\n",
      "198/198 [==============================] - 0s 282us/step - loss: 0.2140 - acc: 1.0000\n",
      "Epoch 49/100\n",
      "198/198 [==============================] - 0s 222us/step - loss: 0.2111 - acc: 1.0000\n",
      "Epoch 50/100\n",
      "198/198 [==============================] - 0s 257us/step - loss: 0.2084 - acc: 1.0000\n",
      "\n",
      "Epoch 00050: saving model to modelo.hdf5\n",
      "Epoch 51/100\n",
      "198/198 [==============================] - 0s 224us/step - loss: 0.2057 - acc: 1.0000\n",
      "Epoch 52/100\n",
      "198/198 [==============================] - 0s 222us/step - loss: 0.2030 - acc: 1.0000\n",
      "Epoch 53/100\n",
      "198/198 [==============================] - 0s 196us/step - loss: 0.2004 - acc: 1.0000\n",
      "Epoch 54/100\n",
      "198/198 [==============================] - 0s 217us/step - loss: 0.1979 - acc: 1.0000\n",
      "Epoch 55/100\n",
      "198/198 [==============================] - 0s 207us/step - loss: 0.1956 - acc: 1.0000\n",
      "Epoch 56/100\n",
      "198/198 [==============================] - 0s 219us/step - loss: 0.1932 - acc: 1.0000\n",
      "Epoch 57/100\n",
      "198/198 [==============================] - 0s 227us/step - loss: 0.1909 - acc: 1.0000\n",
      "Epoch 58/100\n",
      "198/198 [==============================] - 0s 196us/step - loss: 0.1886 - acc: 1.0000\n",
      "Epoch 59/100\n",
      "198/198 [==============================] - 0s 222us/step - loss: 0.1864 - acc: 1.0000\n",
      "Epoch 60/100\n",
      "198/198 [==============================] - 0s 232us/step - loss: 0.1842 - acc: 1.0000\n",
      "\n",
      "Epoch 00060: saving model to modelo.hdf5\n",
      "Epoch 61/100\n",
      "198/198 [==============================] - 0s 368us/step - loss: 0.1822 - acc: 1.0000\n",
      "Epoch 62/100\n",
      "198/198 [==============================] - 0s 328us/step - loss: 0.1802 - acc: 1.0000\n",
      "Epoch 63/100\n",
      "198/198 [==============================] - 0s 348us/step - loss: 0.1782 - acc: 1.0000\n",
      "Epoch 64/100\n",
      "198/198 [==============================] - 0s 242us/step - loss: 0.1763 - acc: 1.0000\n",
      "Epoch 65/100\n",
      "198/198 [==============================] - 0s 257us/step - loss: 0.1744 - acc: 1.0000\n",
      "Epoch 66/100\n",
      "198/198 [==============================] - 0s 335us/step - loss: 0.1726 - acc: 1.0000\n",
      "Epoch 67/100\n",
      "198/198 [==============================] - 0s 257us/step - loss: 0.1707 - acc: 1.0000\n",
      "Epoch 68/100\n",
      "198/198 [==============================] - 0s 247us/step - loss: 0.1690 - acc: 1.0000\n",
      "Epoch 69/100\n",
      "198/198 [==============================] - 0s 353us/step - loss: 0.1673 - acc: 1.0000\n",
      "Epoch 70/100\n",
      "198/198 [==============================] - 0s 426us/step - loss: 0.1657 - acc: 1.0000\n",
      "\n",
      "Epoch 00070: saving model to modelo.hdf5\n",
      "Epoch 71/100\n",
      "198/198 [==============================] - 0s 217us/step - loss: 0.1640 - acc: 1.0000\n",
      "Epoch 72/100\n",
      "198/198 [==============================] - 0s 232us/step - loss: 0.1624 - acc: 1.0000\n",
      "Epoch 73/100\n",
      "198/198 [==============================] - 0s 201us/step - loss: 0.1608 - acc: 1.0000\n",
      "Epoch 74/100\n",
      "198/198 [==============================] - 0s 217us/step - loss: 0.1593 - acc: 1.0000\n",
      "Epoch 75/100\n",
      "198/198 [==============================] - 0s 201us/step - loss: 0.1578 - acc: 1.0000\n",
      "Epoch 76/100\n",
      "198/198 [==============================] - 0s 207us/step - loss: 0.1563 - acc: 1.0000\n",
      "Epoch 77/100\n",
      "198/198 [==============================] - 0s 212us/step - loss: 0.1549 - acc: 1.0000\n",
      "Epoch 78/100\n",
      "198/198 [==============================] - 0s 247us/step - loss: 0.1534 - acc: 1.0000\n",
      "Epoch 79/100\n",
      "198/198 [==============================] - 0s 201us/step - loss: 0.1520 - acc: 1.0000\n",
      "Epoch 80/100\n"
     ]
    },
    {
     "name": "stdout",
     "output_type": "stream",
     "text": [
      "198/198 [==============================] - 0s 262us/step - loss: 0.1506 - acc: 1.0000\n",
      "\n",
      "Epoch 00080: saving model to modelo.hdf5\n",
      "Epoch 81/100\n",
      "198/198 [==============================] - 0s 222us/step - loss: 0.1492 - acc: 1.0000\n",
      "Epoch 82/100\n",
      "198/198 [==============================] - 0s 196us/step - loss: 0.1479 - acc: 1.0000\n",
      "Epoch 83/100\n",
      "198/198 [==============================] - 0s 212us/step - loss: 0.1466 - acc: 1.0000\n",
      "Epoch 84/100\n",
      "198/198 [==============================] - 0s 222us/step - loss: 0.1454 - acc: 1.0000\n",
      "Epoch 85/100\n",
      "198/198 [==============================] - 0s 196us/step - loss: 0.1441 - acc: 1.0000\n",
      "Epoch 86/100\n",
      "198/198 [==============================] - 0s 217us/step - loss: 0.1429 - acc: 1.0000\n",
      "Epoch 87/100\n",
      "198/198 [==============================] - 0s 196us/step - loss: 0.1417 - acc: 1.0000\n",
      "Epoch 88/100\n",
      "198/198 [==============================] - 0s 217us/step - loss: 0.1405 - acc: 1.0000\n",
      "Epoch 89/100\n",
      "198/198 [==============================] - 0s 214us/step - loss: 0.1393 - acc: 1.0000\n",
      "Epoch 90/100\n",
      "198/198 [==============================] - 0s 212us/step - loss: 0.1382 - acc: 1.0000\n",
      "\n",
      "Epoch 00090: saving model to modelo.hdf5\n",
      "Epoch 91/100\n",
      "198/198 [==============================] - 0s 212us/step - loss: 0.1371 - acc: 1.0000\n",
      "Epoch 92/100\n",
      "198/198 [==============================] - 0s 196us/step - loss: 0.1359 - acc: 1.0000\n",
      "Epoch 93/100\n",
      "198/198 [==============================] - 0s 212us/step - loss: 0.1348 - acc: 1.0000\n",
      "Epoch 94/100\n",
      "198/198 [==============================] - 0s 202us/step - loss: 0.1338 - acc: 1.0000\n",
      "Epoch 95/100\n",
      "198/198 [==============================] - 0s 207us/step - loss: 0.1327 - acc: 1.0000\n",
      "Epoch 96/100\n",
      "198/198 [==============================] - 0s 196us/step - loss: 0.1317 - acc: 1.0000\n",
      "Epoch 97/100\n",
      "198/198 [==============================] - 0s 191us/step - loss: 0.1307 - acc: 1.0000\n",
      "Epoch 98/100\n",
      "198/198 [==============================] - 0s 212us/step - loss: 0.1297 - acc: 1.0000\n",
      "Epoch 99/100\n",
      "198/198 [==============================] - 0s 196us/step - loss: 0.1286 - acc: 1.0000\n",
      "Epoch 100/100\n",
      "198/198 [==============================] - 0s 201us/step - loss: 0.1276 - acc: 1.0000\n",
      "\n",
      "Epoch 00100: saving model to modelo.hdf5\n"
     ]
    }
   ],
   "source": [
    "checkpoint = ModelCheckpoint(filepath='modelo.hdf5', verbose=1, period=10)\n",
    "\n",
    "\n",
    "modelo = Sequential([\n",
    "    Dense(units=5, activation='sigmoid', input_dim=4494),\n",
    "    Dense(units=1, activation='sigmoid')\n",
    "])\n",
    "modelo.compile(loss='binary_crossentropy', optimizer=\"sgd\", metrics=[\"acc\"])\n",
    "\n",
    "modelo.fit(X_Std, y, epochs=100, \n",
    "           verbose=1, callbacks=[checkpoint]);"
   ]
  },
  {
   "cell_type": "markdown",
   "metadata": {},
   "source": [
    "## Si queremos volver a cargar el modelo, tendríamos que usar lo siguiente "
   ]
  },
  {
   "cell_type": "code",
   "execution_count": 135,
   "metadata": {},
   "outputs": [],
   "source": [
    "# from keras.models import load_model\n",
    "\n",
    "# modelo_recargado = load_model(\"modelo.hdf5\")"
   ]
  },
  {
   "cell_type": "code",
   "execution_count": null,
   "metadata": {},
   "outputs": [],
   "source": []
  }
 ],
 "metadata": {
  "kernelspec": {
   "display_name": "Python 3",
   "language": "python",
   "name": "python3"
  },
  "language_info": {
   "codemirror_mode": {
    "name": "ipython",
    "version": 3
   },
   "file_extension": ".py",
   "mimetype": "text/x-python",
   "name": "python",
   "nbconvert_exporter": "python",
   "pygments_lexer": "ipython3",
   "version": "3.7.1"
  }
 },
 "nbformat": 4,
 "nbformat_minor": 2
}
